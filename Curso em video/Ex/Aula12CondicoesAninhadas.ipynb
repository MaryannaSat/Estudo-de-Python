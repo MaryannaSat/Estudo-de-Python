{
 "cells": [
  {
   "cell_type": "code",
   "execution_count": 1,
   "id": "5079d08d",
   "metadata": {},
   "outputs": [],
   "source": [
    "nome =  str(input('Qual é o seu nome? '))"
   ]
  },
  {
   "cell_type": "code",
   "execution_count": 2,
   "id": "870db177",
   "metadata": {},
   "outputs": [
    {
     "name": "stdout",
     "output_type": "stream",
     "text": [
      "Seu nome é normal.\n",
      "Tenha um bom dia!\n"
     ]
    }
   ],
   "source": [
    "if nome == 'Gustavo':\n",
    "    print('Nome bonito')\n",
    "\n",
    "elif nome == 'Pedro' or nome == 'Maria' or nome == 'Paulo':\n",
    "    print('Seu nome é popular no Brasil. ')\n",
    "\n",
    "else:\n",
    "    print('Seu nome é normal.')\n",
    "    \n",
    "print('Tenha um bom dia!')"
   ]
  },
  {
   "cell_type": "code",
   "execution_count": null,
   "id": "5c144220",
   "metadata": {},
   "outputs": [],
   "source": []
  },
  {
   "cell_type": "code",
   "execution_count": null,
   "id": "0d9f4aff",
   "metadata": {},
   "outputs": [],
   "source": []
  }
 ],
 "metadata": {
  "kernelspec": {
   "display_name": "Python 3 (ipykernel)",
   "language": "python",
   "name": "python3"
  },
  "language_info": {
   "codemirror_mode": {
    "name": "ipython",
    "version": 3
   },
   "file_extension": ".py",
   "mimetype": "text/x-python",
   "name": "python",
   "nbconvert_exporter": "python",
   "pygments_lexer": "ipython3",
   "version": "3.9.8"
  }
 },
 "nbformat": 4,
 "nbformat_minor": 5
}
