{
 "cells": [
  {
   "cell_type": "code",
   "execution_count": 1,
   "id": "701693c3",
   "metadata": {},
   "outputs": [],
   "source": [
    "import math"
   ]
  },
  {
   "cell_type": "code",
   "execution_count": 2,
   "id": "672caf8b",
   "metadata": {},
   "outputs": [],
   "source": [
    "num = int(input('Digite um numero?'))\n",
    "\n",
    "raiz = math.sqrt(num)"
   ]
  },
  {
   "cell_type": "code",
   "execution_count": 3,
   "id": "5c740840",
   "metadata": {},
   "outputs": [
    {
     "name": "stdout",
     "output_type": "stream",
     "text": [
      " A raiz quadrada de 5 é 2.23606797749979.\n"
     ]
    }
   ],
   "source": [
    "print(' A raiz quadrada de {} é {}.'.format(num , raiz))"
   ]
  },
  {
   "cell_type": "code",
   "execution_count": null,
   "id": "fbc6cb21",
   "metadata": {},
   "outputs": [],
   "source": []
  }
 ],
 "metadata": {
  "kernelspec": {
   "display_name": "Python 3 (ipykernel)",
   "language": "python",
   "name": "python3"
  },
  "language_info": {
   "codemirror_mode": {
    "name": "ipython",
    "version": 3
   },
   "file_extension": ".py",
   "mimetype": "text/x-python",
   "name": "python",
   "nbconvert_exporter": "python",
   "pygments_lexer": "ipython3",
   "version": "3.9.8"
  }
 },
 "nbformat": 4,
 "nbformat_minor": 5
}
