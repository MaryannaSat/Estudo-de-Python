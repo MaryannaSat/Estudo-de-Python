{
 "cells": [
  {
   "cell_type": "code",
   "execution_count": 1,
   "id": "5079d08d",
   "metadata": {},
   "outputs": [
    {
     "name": "stdout",
     "output_type": "stream",
     "text": [
      "1\n",
      "3\n",
      "5\n",
      "FIM\n"
     ]
    },
    {
     "data": {
      "text/plain": [
       "\"for c in range(0 , 4):\\n    n = int(input('Dirige um número:'))\\nprint('FIM')\""
      ]
     },
     "execution_count": 1,
     "metadata": {},
     "output_type": "execute_result"
    }
   ],
   "source": [
    "'''for c in range(1,3):\n",
    "   print('Oi')\n",
    "print('FIM')'''\n",
    "\n",
    "for c in range(1 ,6 , 2):\n",
    "   print(c)\n",
    "print('FIM')\n",
    "\n",
    "'''n = int(input('Dirige um número:'))\n",
    "for c in range(0 , n+1):\n",
    "   print(c)\n",
    "print('FIM')'''\n",
    "\n",
    "'''for c in range(0 , 4):\n",
    "    n = int(input('Dirige um número:'))\n",
    "print('FIM')'''\n"
   ]
  },
  {
   "cell_type": "code",
   "execution_count": null,
   "id": "0d9f4aff",
   "metadata": {},
   "outputs": [],
   "source": []
  }
 ],
 "metadata": {
  "kernelspec": {
   "display_name": "Python 3 (ipykernel)",
   "language": "python",
   "name": "python3"
  },
  "language_info": {
   "codemirror_mode": {
    "name": "ipython",
    "version": 3
   },
   "file_extension": ".py",
   "mimetype": "text/x-python",
   "name": "python",
   "nbconvert_exporter": "python",
   "pygments_lexer": "ipython3",
   "version": "3.9.8"
  }
 },
 "nbformat": 4,
 "nbformat_minor": 5
}
