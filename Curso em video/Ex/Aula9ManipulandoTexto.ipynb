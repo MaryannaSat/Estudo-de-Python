{
 "cells": [
  {
   "cell_type": "code",
   "execution_count": 1,
   "id": "701693c3",
   "metadata": {},
   "outputs": [],
   "source": [
    "frase = '  Curso de Video Python   '"
   ]
  },
  {
   "cell_type": "code",
   "execution_count": 2,
   "id": "672caf8b",
   "metadata": {},
   "outputs": [
    {
     "name": "stdout",
     "output_type": "stream",
     "text": [
      "u\n",
      "urso de Video Python   \n",
      "Crod ie yhn \n"
     ]
    }
   ],
   "source": [
    "#Qual a letra que está na posição [].\n",
    "print(frase[3])\n",
    "print(frase[3:])\n",
    "print(frase[2::2])\n",
    "\n"
   ]
  },
  {
   "cell_type": "code",
   "execution_count": 3,
   "id": "5c740840",
   "metadata": {},
   "outputs": [
    {
     "name": "stdout",
     "output_type": "stream",
     "text": [
      "Nessa aula, vamos aprender operações com String no Python.\n",
      " As principais operações que vamos aprender são o Fatiamento de String,\n",
      " Análise com len(), count(), find(), transformações com replace(), \n",
      " upper(), lower(), capitalize(), title(), strip(), junção com join().\n"
     ]
    }
   ],
   "source": [
    "#Texto\n",
    "print('''Nessa aula, vamos aprender operações com String no Python.\\n As principais operações que vamos aprender são o Fatiamento de String,\\n Análise com len(), count(), find(), transformações com replace(), \\n upper(), lower(), capitalize(), title(), strip(), junção com join().''')"
   ]
  },
  {
   "cell_type": "code",
   "execution_count": 4,
   "id": "fbc6cb21",
   "metadata": {},
   "outputs": [
    {
     "name": "stdout",
     "output_type": "stream",
     "text": [
      "3\n"
     ]
    }
   ],
   "source": [
    "#Quantidade de [] na frase.\n",
    "print(frase.count('o'))"
   ]
  },
  {
   "cell_type": "code",
   "execution_count": 5,
   "id": "f15f729f",
   "metadata": {},
   "outputs": [
    {
     "name": "stdout",
     "output_type": "stream",
     "text": [
      "26\n"
     ]
    }
   ],
   "source": [
    "#Quantidade de caracterios na frase.\n",
    "print(len(frase))\n",
    "\n"
   ]
  },
  {
   "cell_type": "code",
   "execution_count": 6,
   "id": "cc3800cf",
   "metadata": {},
   "outputs": [
    {
     "name": "stdout",
     "output_type": "stream",
     "text": [
      "21\n"
     ]
    }
   ],
   "source": [
    "#Sem excesso de espaço.\n",
    "print(len(frase.strip()))\n",
    "\n"
   ]
  },
  {
   "cell_type": "code",
   "execution_count": 7,
   "id": "174177b9",
   "metadata": {},
   "outputs": [
    {
     "name": "stdout",
     "output_type": "stream",
     "text": [
      "  Curso de Video Android   \n"
     ]
    }
   ],
   "source": [
    "#Trocar palavras\n",
    "print(frase.replace('Python' , 'Android'))\n",
    "\n"
   ]
  },
  {
   "cell_type": "code",
   "execution_count": 8,
   "id": "7c6285d4",
   "metadata": {},
   "outputs": [
    {
     "name": "stdout",
     "output_type": "stream",
     "text": [
      "True\n"
     ]
    }
   ],
   "source": [
    "#Saber se esta na frase\n",
    "print('Curso' in frase)\n",
    "\n"
   ]
  },
  {
   "cell_type": "code",
   "execution_count": 9,
   "id": "c259324c",
   "metadata": {},
   "outputs": [
    {
     "name": "stdout",
     "output_type": "stream",
     "text": [
      "['Curso', 'de', 'Video', 'Python']\n"
     ]
    }
   ],
   "source": [
    "#Dividir\n",
    "print((frase.split()))\n",
    "\n"
   ]
  },
  {
   "cell_type": "code",
   "execution_count": 10,
   "id": "0d5cf87e",
   "metadata": {},
   "outputs": [
    {
     "name": "stdout",
     "output_type": "stream",
     "text": [
      "Video\n"
     ]
    }
   ],
   "source": [
    "dividido = frase.split()\n",
    "print(dividido[2])\n",
    "\n"
   ]
  },
  {
   "cell_type": "code",
   "execution_count": 11,
   "id": "98733fdd",
   "metadata": {},
   "outputs": [
    {
     "name": "stdout",
     "output_type": "stream",
     "text": [
      "e\n"
     ]
    }
   ],
   "source": [
    "#letra 3 da palavra 2.\n",
    "print(dividido[2][3])"
   ]
  },
  {
   "cell_type": "code",
   "execution_count": null,
   "id": "504a984d",
   "metadata": {},
   "outputs": [],
   "source": []
  }
 ],
 "metadata": {
  "kernelspec": {
   "display_name": "Python 3 (ipykernel)",
   "language": "python",
   "name": "python3"
  },
  "language_info": {
   "codemirror_mode": {
    "name": "ipython",
    "version": 3
   },
   "file_extension": ".py",
   "mimetype": "text/x-python",
   "name": "python",
   "nbconvert_exporter": "python",
   "pygments_lexer": "ipython3",
   "version": "3.9.8"
  }
 },
 "nbformat": 4,
 "nbformat_minor": 5
}
