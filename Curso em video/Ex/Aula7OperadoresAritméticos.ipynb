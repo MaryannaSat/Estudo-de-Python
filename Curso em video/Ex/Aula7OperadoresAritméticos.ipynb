{
 "cells": [
  {
   "cell_type": "code",
   "execution_count": 1,
   "id": "701693c3",
   "metadata": {},
   "outputs": [],
   "source": [
    "n1 = int(input(' Um valor:'))\n",
    "n2 = int(input(' Outro valor:'))"
   ]
  },
  {
   "cell_type": "code",
   "execution_count": 2,
   "id": "672caf8b",
   "metadata": {},
   "outputs": [],
   "source": [
    "s= n1 + n2\n",
    "m= n1 - n2\n",
    "mu= n1 * n2\n",
    "d= n1 / n2\n",
    "di= n1 // n2\n",
    "p= n1 ** n2\n",
    "r= n1 % n2"
   ]
  },
  {
   "cell_type": "code",
   "execution_count": 3,
   "id": "5c740840",
   "metadata": {},
   "outputs": [
    {
     "name": "stdout",
     "output_type": "stream",
     "text": [
      "A soma vale 15, subtração é 5, multiplição é 50, divisão é 2.0, Potencia é 100000, divisão inteira é 2, resto de divisão é 0\n"
     ]
    }
   ],
   "source": [
    "print('A soma vale {}, subtração é {}, multiplição é {}, divisão é {}, Potencia é {}, divisão inteira é {}, resto de divisão é {}'.format(s , m , mu , d , p , di , r))"
   ]
  }
 ],
 "metadata": {
  "kernelspec": {
   "display_name": "Python 3 (ipykernel)",
   "language": "python",
   "name": "python3"
  },
  "language_info": {
   "codemirror_mode": {
    "name": "ipython",
    "version": 3
   },
   "file_extension": ".py",
   "mimetype": "text/x-python",
   "name": "python",
   "nbconvert_exporter": "python",
   "pygments_lexer": "ipython3",
   "version": "3.9.8"
  }
 },
 "nbformat": 4,
 "nbformat_minor": 5
}
