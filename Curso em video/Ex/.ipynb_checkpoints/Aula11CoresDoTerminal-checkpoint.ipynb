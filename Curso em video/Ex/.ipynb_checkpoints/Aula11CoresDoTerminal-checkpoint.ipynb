{
 "cells": [
  {
   "cell_type": "code",
   "execution_count": 1,
   "id": "d1af6720",
   "metadata": {},
   "outputs": [
    {
     "name": "stdout",
     "output_type": "stream",
     "text": [
      "\u001b[0;33;44mOlá Mundo\u001b[m\n"
     ]
    }
   ],
   "source": [
    "print('\\033[0;33;44mOlá Mundo\\033[m')\n",
    "\n",
    "a=5\n",
    "b=6"
   ]
  },
  {
   "cell_type": "code",
   "execution_count": 2,
   "id": "d7687eb0",
   "metadata": {},
   "outputs": [
    {
     "name": "stdout",
     "output_type": "stream",
     "text": [
      "Os valores são \u001b[1;34m5\u001b[m e 6\n"
     ]
    }
   ],
   "source": [
    "print('Os valores são \\033[1;34m{}\\033[m e {}'.format(a,b))"
   ]
  },
  {
   "cell_type": "code",
   "execution_count": 3,
   "id": "094a8720",
   "metadata": {},
   "outputs": [
    {
     "name": "stdout",
     "output_type": "stream",
     "text": [
      "Olaaa! \u001b[0;33m!Arroz!\u001b[m!\n"
     ]
    }
   ],
   "source": [
    "c = 'Arroz'\n",
    "print('Olaaa! {}!{}!{}!'.format('\\033[0;33m',c,'\\033[m'))"
   ]
  },
  {
   "cell_type": "code",
   "execution_count": 4,
   "id": "6972f80d",
   "metadata": {},
   "outputs": [
    {
     "name": "stdout",
     "output_type": "stream",
     "text": [
      "Olaaa! \u001b[34m!Arroz!\u001b[31m!\n"
     ]
    }
   ],
   "source": [
    "cores =  {'azul':'\\033[34m',\n",
    "          'vern.':'\\033[31m',\n",
    "          'roxo':'\\033[35m'}\n",
    "\n",
    "print('Olaaa! {}!{}!{}!'.format(cores['azul'],c,cores['vern.']))"
   ]
  }
 ],
 "metadata": {
  "kernelspec": {
   "display_name": "Python 3 (ipykernel)",
   "language": "python",
   "name": "python3"
  },
  "language_info": {
   "codemirror_mode": {
    "name": "ipython",
    "version": 3
   },
   "file_extension": ".py",
   "mimetype": "text/x-python",
   "name": "python",
   "nbconvert_exporter": "python",
   "pygments_lexer": "ipython3",
   "version": "3.7.7"
  }
 },
 "nbformat": 4,
 "nbformat_minor": 5
}
