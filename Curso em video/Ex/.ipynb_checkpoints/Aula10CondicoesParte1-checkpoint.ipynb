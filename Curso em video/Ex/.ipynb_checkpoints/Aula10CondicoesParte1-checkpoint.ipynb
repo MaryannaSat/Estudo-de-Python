{
 "cells": [
  {
   "cell_type": "code",
   "execution_count": 3,
   "id": "701693c3",
   "metadata": {},
   "outputs": [
    {
     "name": "stdout",
     "output_type": "stream",
     "text": [
      "Quantos anos tem seu carro? 1\n",
      "Carro Novo\n"
     ]
    }
   ],
   "source": [
    "tempo = int(input('Quantos anos tem seu carro? '))\n",
    "\n",
    "if tempo <=3: #if=se, tempo(objeto)<=3(restrição)\n",
    "    print('Carro Novo')\n",
    "\n",
    "\n",
    "else: #else=senão\n",
    "    print(('Carro Velho'))\n"
   ]
  },
  {
   "cell_type": "code",
   "execution_count": 4,
   "id": "672caf8b",
   "metadata": {},
   "outputs": [
    {
     "name": "stdout",
     "output_type": "stream",
     "text": [
      "Carro Novo\n"
     ]
    }
   ],
   "source": [
    "print('Carro Novo'if tempo <=3 else'Carro Velho')"
   ]
  },
  {
   "cell_type": "code",
   "execution_count": 6,
   "id": "5c740840",
   "metadata": {},
   "outputs": [
    {
     "name": "stdout",
     "output_type": "stream",
     "text": [
      "Qual é seu nome? m\n"
     ]
    }
   ],
   "source": [
    "n = str(input('Qual é seu nome? '))"
   ]
  },
  {
   "cell_type": "code",
   "execution_count": 7,
   "id": "f58c0773",
   "metadata": {},
   "outputs": [
    {
     "name": "stdout",
     "output_type": "stream",
     "text": [
      "Bom dia!\n"
     ]
    }
   ],
   "source": [
    "if n == 'Gustavo':\n",
    "    print('Nome bonito')\n",
    "\n",
    "print('Bom dia!')"
   ]
  },
  {
   "cell_type": "code",
   "execution_count": 9,
   "id": "f7b67879",
   "metadata": {},
   "outputs": [
    {
     "name": "stdout",
     "output_type": "stream",
     "text": [
      "Digite sua nota1: 5\n",
      "Digite sua nota2: 10\n"
     ]
    }
   ],
   "source": [
    "n1 = float(input('Digite sua nota1: '))\n",
    "n2 = float(input('Digite sua nota2: '))"
   ]
  },
  {
   "cell_type": "code",
   "execution_count": 10,
   "id": "91fc7be6",
   "metadata": {},
   "outputs": [
    {
     "name": "stdout",
     "output_type": "stream",
     "text": [
      "Sua nota final é 7.5\n"
     ]
    }
   ],
   "source": [
    "m = (n1 + n2)/2\n",
    "\n",
    "print('Sua nota final é {}'.format(m))"
   ]
  },
  {
   "cell_type": "code",
   "execution_count": 11,
   "id": "4f4610ad",
   "metadata": {},
   "outputs": [
    {
     "name": "stdout",
     "output_type": "stream",
     "text": [
      "Aprovado\n"
     ]
    }
   ],
   "source": [
    "if m <=5:\n",
    "    print('Reprovado')\n",
    "else:\n",
    "    print('Aprovado')"
   ]
  }
 ],
 "metadata": {
  "kernelspec": {
   "display_name": "Python 3 (ipykernel)",
   "language": "python",
   "name": "python3"
  },
  "language_info": {
   "codemirror_mode": {
    "name": "ipython",
    "version": 3
   },
   "file_extension": ".py",
   "mimetype": "text/x-python",
   "name": "python",
   "nbconvert_exporter": "python",
   "pygments_lexer": "ipython3",
   "version": "3.7.7"
  }
 },
 "nbformat": 4,
 "nbformat_minor": 5
}
