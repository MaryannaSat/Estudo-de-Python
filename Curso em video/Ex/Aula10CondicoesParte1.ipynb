{
 "cells": [
  {
   "cell_type": "code",
   "execution_count": 1,
   "id": "701693c3",
   "metadata": {},
   "outputs": [
    {
     "name": "stdout",
     "output_type": "stream",
     "text": [
      "Carro Velho\n"
     ]
    }
   ],
   "source": [
    "tempo = int(input('Quantos anos tem seu carro? '))\n",
    "\n",
    "if tempo <=3: #if=se, tempo(objeto)<=3(restrição)\n",
    "    print('Carro Novo')\n",
    "\n",
    "\n",
    "else: #else=senão\n",
    "    print(('Carro Velho'))\n"
   ]
  },
  {
   "cell_type": "code",
   "execution_count": 2,
   "id": "672caf8b",
   "metadata": {},
   "outputs": [
    {
     "name": "stdout",
     "output_type": "stream",
     "text": [
      "Carro Velho\n"
     ]
    }
   ],
   "source": [
    "print('Carro Novo'if tempo <=3 else'Carro Velho')"
   ]
  },
  {
   "cell_type": "code",
   "execution_count": 3,
   "id": "5c740840",
   "metadata": {},
   "outputs": [],
   "source": [
    "n = str(input('Qual é seu nome? '))"
   ]
  },
  {
   "cell_type": "code",
   "execution_count": 4,
   "id": "f58c0773",
   "metadata": {},
   "outputs": [
    {
     "name": "stdout",
     "output_type": "stream",
     "text": [
      "Bom dia!\n"
     ]
    }
   ],
   "source": [
    "if n == 'Gustavo':\n",
    "    print('Nome bonito')\n",
    "\n",
    "print('Bom dia!')"
   ]
  },
  {
   "cell_type": "code",
   "execution_count": 5,
   "id": "f7b67879",
   "metadata": {},
   "outputs": [],
   "source": [
    "n1 = float(input('Digite sua nota1: '))\n",
    "n2 = float(input('Digite sua nota2: '))"
   ]
  },
  {
   "cell_type": "code",
   "execution_count": 6,
   "id": "91fc7be6",
   "metadata": {},
   "outputs": [
    {
     "name": "stdout",
     "output_type": "stream",
     "text": [
      "Sua nota final é 7.5\n"
     ]
    }
   ],
   "source": [
    "m = (n1 + n2)/2\n",
    "\n",
    "print('Sua nota final é {}'.format(m))"
   ]
  },
  {
   "cell_type": "code",
   "execution_count": 7,
   "id": "4f4610ad",
   "metadata": {},
   "outputs": [
    {
     "name": "stdout",
     "output_type": "stream",
     "text": [
      "Aprovado\n"
     ]
    }
   ],
   "source": [
    "if m <=5:\n",
    "    print('Reprovado')\n",
    "else:\n",
    "    print('Aprovado')"
   ]
  }
 ],
 "metadata": {
  "kernelspec": {
   "display_name": "Python 3 (ipykernel)",
   "language": "python",
   "name": "python3"
  },
  "language_info": {
   "codemirror_mode": {
    "name": "ipython",
    "version": 3
   },
   "file_extension": ".py",
   "mimetype": "text/x-python",
   "name": "python",
   "nbconvert_exporter": "python",
   "pygments_lexer": "ipython3",
   "version": "3.9.8"
  }
 },
 "nbformat": 4,
 "nbformat_minor": 5
}
